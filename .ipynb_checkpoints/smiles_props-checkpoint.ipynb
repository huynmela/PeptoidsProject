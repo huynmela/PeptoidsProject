{
 "cells": [
  {
   "cell_type": "markdown",
   "id": "f4613da6",
   "metadata": {},
   "source": [
    "#### I'm not the proudest of the way I coded this up, but it gets the job done... Please tell me if you'd like me to make it look better!"
   ]
  },
  {
   "cell_type": "code",
   "execution_count": 2,
   "id": "6cb93e25",
   "metadata": {},
   "outputs": [],
   "source": [
    "import morfeus\n",
    "from rdkit import rdBase, Chem\n",
    "from chiralizer import chiralizer, tokenizer\n",
    "from pathlib import Path\n",
    "import matplotlib.pyplot as plt\n",
    "import os\n",
    "%matplotlib inline"
   ]
  },
  {
   "cell_type": "code",
   "execution_count": 3,
   "id": "9ada805e",
   "metadata": {},
   "outputs": [],
   "source": [
    "smiles_file = open('sidechain_smiles.smi', 'r')\n",
    "smiles = smiles_file.read().splitlines()"
   ]
  },
  {
   "cell_type": "code",
   "execution_count": 4,
   "id": "fb462e95",
   "metadata": {},
   "outputs": [
    {
     "data": {
      "text/plain": [
       "52"
      ]
     },
     "execution_count": 4,
     "metadata": {},
     "output_type": "execute_result"
    }
   ],
   "source": [
    "len(smiles)"
   ]
  },
  {
   "cell_type": "markdown",
   "id": "ce30b2b0",
   "metadata": {},
   "source": [
    "## analyzing properties of chiral peptoids"
   ]
  },
  {
   "cell_type": "markdown",
   "id": "d9267b09",
   "metadata": {},
   "source": [
    "separating chiral and achiral peptoids"
   ]
  },
  {
   "cell_type": "code",
   "execution_count": 46,
   "id": "2cd8b1c6",
   "metadata": {},
   "outputs": [
    {
     "name": "stdout",
     "output_type": "stream",
     "text": [
      "6\n",
      "7\n",
      "8\n",
      "9\n",
      "18\n",
      "19\n",
      "20\n",
      "21\n",
      "24\n",
      "25\n",
      "28\n",
      "34\n",
      "35\n",
      "38\n",
      "43\n",
      "44\n",
      "47\n",
      "51\n"
     ]
    }
   ],
   "source": [
    "for i in range(len(smiles)):\n",
    "    if chiralizer(smiles[i])[0]:\n",
    "        print(i)"
   ]
  },
  {
   "cell_type": "code",
   "execution_count": 52,
   "id": "a8058f94",
   "metadata": {},
   "outputs": [
    {
     "data": {
      "text/plain": [
       "'NC(C)C1CCCCC1'"
      ]
     },
     "execution_count": 52,
     "metadata": {},
     "output_type": "execute_result"
    }
   ],
   "source": [
    "smiles[47]"
   ]
  },
  {
   "cell_type": "code",
   "execution_count": 5,
   "id": "60b72713",
   "metadata": {},
   "outputs": [],
   "source": [
    "chiral_smiles = [chiralizer(smiles[i])[1] for i in range(len(smiles)) if chiralizer(smiles[i])[0]]"
   ]
  },
  {
   "cell_type": "code",
   "execution_count": 6,
   "id": "f80af54d",
   "metadata": {},
   "outputs": [],
   "source": [
    "directory = Path('C:/Users/Mel/Box/School/Internships/REU/PeptoidsProject/chiral_xyz/')"
   ]
  },
  {
   "cell_type": "markdown",
   "id": "7283596e",
   "metadata": {},
   "source": [
    "converting smiles to xyz done on conda command line"
   ]
  },
  {
   "cell_type": "markdown",
   "id": "172c7972",
   "metadata": {},
   "source": [
    "### calculating properties"
   ]
  },
  {
   "cell_type": "code",
   "execution_count": 17,
   "id": "7c7f9521",
   "metadata": {},
   "outputs": [],
   "source": [
    "props_list = [\n",
    "    'buried volume', 'cone angle', 'conformer tools', 'dispersion descriptor', \n",
    "    'local force constants', 'pyramidalization', 'solvent accessible surface area',\n",
    "    'sterimol', 'XTB'\n",
    "             ]"
   ]
  },
  {
   "cell_type": "code",
   "execution_count": 18,
   "id": "f1cdd837",
   "metadata": {},
   "outputs": [],
   "source": [
    "# list of properties\n",
    "bv_list, cone_list, disp_list, ster_list, xtb_list = [], [], [], [], []\n",
    "\n",
    "for filename in os.listdir(directory):\n",
    "    if filename.endswith('.xyz'):\n",
    "        elements, coordinates = morfeus.read_xyz('C:/Users/Mel/Box/School/Internships/REU/PeptoidsProject/chiral_xyz/' + filename)\n",
    "\n",
    "        # appending results to lists\n",
    "        bv_list.append((os.path.splitext(filename)[0], morfeus.BuriedVolume(elements, coordinates, 1).fraction_buried_volume))\n",
    "#        cone_list.append((os.path.splitext(filename)[0], morfeus.ConeAngle(elements, coordinates, 1).cone_angle)) # Exception: ('Atoms within vdW radius of central atom:', '2 6 7')\n",
    "        disp_list.append((os.path.splitext(filename)[0], morfeus.Dispersion(elements, coordinates).atom_p_int[1])) # P_int value\n",
    "        ster_list.append((os.path.splitext(filename)[0], morfeus.Sterimol(elements, coordinates, 1, 2).L_value)) # L value\n",
    "#        xtb_list.append((os.path.splitext(filename)[0], morfeus.XTB(elements,coordinates).get_ip(corrected=True))) # corrected ionization potential   # need to dl xtra to work                      "
   ]
  },
  {
   "cell_type": "markdown",
   "id": "b7af4a72",
   "metadata": {},
   "source": [
    "### separating left and right"
   ]
  },
  {
   "cell_type": "code",
   "execution_count": 55,
   "id": "098999c2",
   "metadata": {
    "scrolled": true
   },
   "outputs": [],
   "source": [
    "left_bv = [i[1] for i in bv_list if 'a' in i[0]]\n",
    "right_bv = [i[1] for i in bv_list if 'b' in i[0]]\n",
    "\n",
    "left_disp = [i[1] for i in disp_list if 'a' in i[0]]\n",
    "right_disp = [i[1] for i in disp_list if 'b' in i[0]]\n",
    "\n",
    "left_ster = [i[1] for i in ster_list if 'a' in i[0]]\n",
    "right_ster = [i[1] for i in ster_list if 'b' in i[0]]"
   ]
  },
  {
   "cell_type": "code",
   "execution_count": 56,
   "id": "568a70aa",
   "metadata": {},
   "outputs": [],
   "source": [
    "labels = [i[0] for i in bv_list if 'a' in i[0]]"
   ]
  },
  {
   "cell_type": "markdown",
   "id": "6506ce31",
   "metadata": {},
   "source": [
    "### plotting"
   ]
  },
  {
   "cell_type": "code",
   "execution_count": 57,
   "id": "f582c723",
   "metadata": {},
   "outputs": [],
   "source": [
    "props = {\n",
    "    'buried volume' : (left_bv, right_bv),\n",
    "    'sterimol L value' : (left_ster, right_ster),\n",
    "    'dispersion descriptor p_int' : (left_disp, right_disp)\n",
    "} "
   ]
  },
  {
   "cell_type": "code",
   "execution_count": 60,
   "id": "0e931453",
   "metadata": {
    "scrolled": false
   },
   "outputs": [
    {
     "data": {
      "image/png": "[encoded data removed]",
      "text/plain": [
       "<Figure size 432x288 with 1 Axes>"
      ]
     },
     "metadata": {
      "needs_background": "light"
     },
     "output_type": "display_data"
    },
    {
     "data": {
      "image/png": "[encoded data removed]",
      "text/plain": [
       "<Figure size 432x288 with 1 Axes>"
      ]
     },
     "metadata": {
      "needs_background": "light"
     },
     "output_type": "display_data"
    },
    {
     "data": {
      "image/png": "[encoded data removed]",
      "text/plain": [
       "<Figure size 432x288 with 1 Axes>"
      ]
     },
     "metadata": {
      "needs_background": "light"
     },
     "output_type": "display_data"
    }
   ],
   "source": [
    "for key in props:\n",
    "    plt.scatter(props[key][0], props[key][1], c='g', )\n",
    "    plt.axline([0, 0], [1, 1], linestyle=':')\n",
    "    plt.xlabel(\"left chiral\")\n",
    "    plt.ylabel(\"right chiral\")\n",
    "    plt.title(key)\n",
    "    if key == \"buried volume\":\n",
    "        plt.axis([0.3, 0.42, 0.3, 0.42])\n",
    "    elif key == \"pyramidization\":\n",
    "        plt.axis([0.7, 0.9, 0.7, 0.9])\n",
    "    elif key == \"dispersion descriptor p_int\":\n",
    "        plt.axis([15, 21, 15, 21])\n",
    "    elif key == \"sterimol L value\":\n",
    "        plt.axis([4, 9, 4, 9])\n",
    "    for i, label in enumerate(labels):\n",
    "        plt.annotate(label.replace(\"a\", \"\"), (props[key][0][i], props[key][1][i]))\n",
    "    plt.show()"
   ]
  },
  {
   "cell_type": "markdown",
   "id": "6ba696cf",
   "metadata": {},
   "source": [
    "## analyzing properties of N atom"
   ]
  },
  {
   "cell_type": "code",
   "execution_count": null,
   "id": "505c9b13",
   "metadata": {},
   "outputs": [],
   "source": []
  },
  {
   "cell_type": "code",
   "execution_count": null,
   "id": "377f3c45",
   "metadata": {},
   "outputs": [],
   "source": []
  }
 ],
 "metadata": {
  "kernelspec": {
   "display_name": "Python 3 (ipykernel)",
   "language": "python",
   "name": "python3"
  },
  "language_info": {
   "codemirror_mode": {
    "name": "ipython",
    "version": 3
   },
   "file_extension": ".py",
   "mimetype": "text/x-python",
   "name": "python",
   "nbconvert_exporter": "python",
   "pygments_lexer": "ipython3",
   "version": "3.8.10"
  }
 },
 "nbformat": 4,
 "nbformat_minor": 5
}
